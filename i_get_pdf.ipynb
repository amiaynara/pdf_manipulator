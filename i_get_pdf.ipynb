{
 "cells": [
  {
   "cell_type": "code",
   "execution_count": 1,
   "metadata": {},
   "outputs": [],
   "source": [
    "## This snippet will download list of PDFs\n",
    "#  INPUT : URLs ===============> length -> N\n",
    "#  INPUT : Page Range =========> length -> N\n",
    "\n",
    "#  OUTPUT : 'result_folder' containing the split PDFs\n",
    "\n",
    "\n",
    "#  Author : Amiay Narayan\n",
    "#  Reference : https://www.youtube.com/watch?v=BhgE6d7zhYQ\n",
    "             "
   ]
  },
  {
   "cell_type": "code",
   "execution_count": 9,
   "metadata": {},
   "outputs": [],
   "source": [
    "# download a pdf\n",
    "import requests\n",
    "from urllib import request"
   ]
  },
  {
   "cell_type": "code",
   "execution_count": 57,
   "metadata": {},
   "outputs": [],
   "source": [
    "url_list=[ 'https://www.vajiramandravi.com/pdf_upload/Prelim%20Qs/2011/GS_PAPER_I.pdf',\n",
    "           'https://www.vajiramandravi.com/pdf_upload/Prelim%20Qs/2012/pap1a.pdf']\n",
    "\n",
    "# this can also be linked to some external data base say X."
   ]
  },
  {
   "cell_type": "code",
   "execution_count": 44,
   "metadata": {},
   "outputs": [],
   "source": [
    "files_created=[]"
   ]
  },
  {
   "cell_type": "code",
   "execution_count": 45,
   "metadata": {},
   "outputs": [],
   "source": [
    "for url in url_list:\n",
    "    response=requests.get(url)\n",
    "    file_name=url.split('/')[-2] +'-' + url.split('/')[-1]\n",
    "    with open(file_name,'wb') as f:\n",
    "        f.write(response.content)\n",
    "    files_created.append(file_name)\n",
    "    "
   ]
  },
  {
   "cell_type": "code",
   "execution_count": 46,
   "metadata": {},
   "outputs": [],
   "source": [
    "# page ranges to be extracted\n",
    "page_range_list=[(3,10),(28,45)] # as list of tuples\n",
    "# this can be linked to some external database say X"
   ]
  },
  {
   "cell_type": "code",
   "execution_count": 48,
   "metadata": {},
   "outputs": [],
   "source": [
    "page_range={files_created[i]: list(range(page_range_list[i][0],page_range_list[i][1]+1)) for i in range(len(files_created))}"
   ]
  },
  {
   "cell_type": "code",
   "execution_count": 58,
   "metadata": {},
   "outputs": [],
   "source": [
    "import os\n",
    "# os.listdir()\n",
    "#page_range[files_created[0]][0]"
   ]
  },
  {
   "cell_type": "code",
   "execution_count": 50,
   "metadata": {},
   "outputs": [],
   "source": [
    "from PyPDF2 import PdfFileReader, PdfFileWriter"
   ]
  },
  {
   "cell_type": "code",
   "execution_count": 56,
   "metadata": {},
   "outputs": [],
   "source": [
    "os.mkdir('result_pdf')\n",
    "wrt_location='result_pdf/'\n",
    "prefix=''\n",
    "suffix=''\n",
    "for pdf_name in files_created:\n",
    "    pdf_file=open(pdf_name,'rb')\n",
    "    pdf_reader=PdfFileReader(pdf_file)\n",
    "    pdf_writer=PdfFileWriter()\n",
    "    for page in page_range[pdf_name]:\n",
    "        pdf_writer.addPage(pdf_reader.getPage(page))\n",
    "    fname=wrt_location+str(page_range[pdf_name][0])+'-' + str(page_range[pdf_name][-1])+'_'+pdf_name\n",
    "    new_split_file=open(fname,'wb')\n",
    "    pdf_writer.write(new_split_file)\n",
    "    new_split_file.close()\n",
    "    pdf_file.close()"
   ]
  },
  {
   "cell_type": "code",
   "execution_count": 42,
   "metadata": {},
   "outputs": [],
   "source": []
  },
  {
   "cell_type": "code",
   "execution_count": null,
   "metadata": {},
   "outputs": [],
   "source": []
  }
 ],
 "metadata": {
  "kernelspec": {
   "display_name": "Python 3",
   "language": "python",
   "name": "python3"
  },
  "language_info": {
   "codemirror_mode": {
    "name": "ipython",
    "version": 3
   },
   "file_extension": ".py",
   "mimetype": "text/x-python",
   "name": "python",
   "nbconvert_exporter": "python",
   "pygments_lexer": "ipython3",
   "version": "3.6.10"
  }
 },
 "nbformat": 4,
 "nbformat_minor": 4
}
